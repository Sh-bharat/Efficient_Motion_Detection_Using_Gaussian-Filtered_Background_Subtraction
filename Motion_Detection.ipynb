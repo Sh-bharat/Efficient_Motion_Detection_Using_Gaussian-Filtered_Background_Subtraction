{
 "cells": [
  {
   "cell_type": "code",
   "execution_count": 2,
   "id": "882faddd-1592-4415-a0ed-109d6b6f3395",
   "metadata": {},
   "outputs": [],
   "source": [
    "## Importing Libraries\n",
    "import cv2"
   ]
  },
  {
   "cell_type": "code",
   "execution_count": 3,
   "id": "ff2fad0b-6e5e-463c-b3c1-3eafd7315db4",
   "metadata": {},
   "outputs": [],
   "source": [
    "## Defining Functions\n",
    "def apply_filters(frame):\n",
    "    gray_img = cv2.cvtColor(frame, cv2.COLOR_BGR2GRAY)     \n",
    "    gaussain_blur=cv2.GaussianBlur(gray_img,(5,5),0)     ## you can change the filter size and sd(sigma) manually\n",
    "    return gaussain_blur\n",
    "\n",
    "def threshold_and_difference(first_gaussain_blur,gaussain_blur):\n",
    "    difference=cv2.absdiff(first_gaussain_blur,gaussain_blur)    \n",
    "    _,threshold_difference=cv2.threshold(difference,25,255,cv2.THRESH_BINARY)  ## if value more than 25 change it to 255\n",
    "    return threshold_difference\n",
    "    \n",
    "    "
   ]
  },
  {
   "cell_type": "code",
   "execution_count": 4,
   "id": "1e2a7cb8-6df5-4454-9c7a-768ca6e509df",
   "metadata": {},
   "outputs": [],
   "source": [
    "cap = cv2.VideoCapture(0)\n",
    "diff_fps=2\n",
    "frames=[]\n",
    "fc=0\n",
    "# Check if the vedio player is open correctly or not\n",
    "if not cap.isOpened():\n",
    "    raise IOError(\"Error: vedio player can not be opened. \")\n",
    "    \n",
    "for i in range(diff_fps):\n",
    "    _,first_frame=cap.read()\n",
    "    first_gaussain_blur=apply_filters(first_frame)\n",
    "    frames.append(first_gaussain_blur)\n",
    "\n",
    "# For Every Frame\n",
    "while True:\n",
    "    _, frame = cap.read()\n",
    "    if(fc>=diff_fps):\n",
    "        fc=0\n",
    "        \n",
    "    gaussain_blur=apply_filters(frame)     \n",
    "    final_frame=threshold_and_difference(frames[fc],gaussain_blur)\n",
    "    frames[fc]=gaussain_blur\n",
    "    fc=fc+1\n",
    "\n",
    "    cv2.imshow('Motion Detection', final_frame)\n",
    "    c = cv2.waitKey(53)\n",
    "    if c == 27: # For Esc character\n",
    "        break\n",
    "\n",
    "cap.release()\n",
    "cv2.destroyAllWindows()"
   ]
  }
 ],
 "metadata": {
  "kernelspec": {
   "display_name": "Python 3 (ipykernel)",
   "language": "python",
   "name": "python3"
  },
  "language_info": {
   "codemirror_mode": {
    "name": "ipython",
    "version": 3
   },
   "file_extension": ".py",
   "mimetype": "text/x-python",
   "name": "python",
   "nbconvert_exporter": "python",
   "pygments_lexer": "ipython3",
   "version": "3.11.7"
  }
 },
 "nbformat": 4,
 "nbformat_minor": 5
}
